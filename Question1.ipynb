{
 "cells": [
  {
   "cell_type": "markdown",
   "metadata": {},
   "source": [
    "1.regression model:还需要再选一个？\n",
    "2.performance用RMSE\n",
    "3.给train和predict的过程注释"
   ]
  },
  {
   "cell_type": "code",
   "execution_count": 3,
   "metadata": {},
   "outputs": [
    {
     "name": "stdout",
     "output_type": "stream",
     "text": [
      "train score:0.2632722734397187\n",
      "test score:0.21321154384192298\n",
      "train MSE:(0.7594373439969914+0j)\n",
      "test MSE:(0.7881847425444171+0j)\n"
     ]
    },
    {
     "data": {
      "image/png": "[encoded data removed]",
      "text/plain": [
       "<Figure size 432x288 with 1 Axes>"
      ]
     },
     "metadata": {
      "needs_background": "light"
     },
     "output_type": "display_data"
    },
    {
     "name": "stdout",
     "output_type": "stream",
     "text": [
      "train score:0.29153766525764446\n",
      "test score:0.24053495606077413\n",
      "train MSE:(0.7447265287973018+0j)\n",
      "test MSE:(0.7743778617318133+0j)\n"
     ]
    },
    {
     "data": {
      "image/png": "[encoded data removed]",
      "text/plain": [
       "<Figure size 432x288 with 1 Axes>"
      ]
     },
     "metadata": {
      "needs_background": "light"
     },
     "output_type": "display_data"
    },
    {
     "name": "stdout",
     "output_type": "stream",
     "text": [
      "train score:0.4296836705644807\n",
      "test score:0.32551332310145176\n",
      "train MSE:(0.668184419871439+0j)\n",
      "test MSE:(0.7297695223041927+0j)\n"
     ]
    },
    {
     "data": {
      "image/png": "[encoded data removed]",
      "text/plain": [
       "<Figure size 432x288 with 1 Axes>"
      ]
     },
     "metadata": {
      "needs_background": "light"
     },
     "output_type": "display_data"
    }
   ],
   "source": [
    "\n",
    "from sklearn.metrics import mean_squared_error\n",
    "from sklearn.model_selection import train_test_split\n",
    "import pandas as pd\n",
    "import numpy as np\n",
    "import matplotlib.pyplot as plt\n",
    "from sklearn.svm import LinearSVR\n",
    "from sklearn.linear_model import LinearRegression\n",
    "from sklearn.svm import SVR\n",
    "from sklearn.pipeline import Pipeline\n",
    "from sklearn.metrics import r2_score\n",
    "from sklearn.preprocessing import PolynomialFeatures\n",
    "from sklearn.preprocessing import StandardScaler\n",
    "import cmath\n",
    "\n",
    "url_train=\"datasets_coursework1/Wine/wine_train.csv\"\n",
    "url_test=\"datasets_coursework1/Wine/wine_test.csv\"\n",
    "\n",
    "dataset_full=[]\n",
    "\n",
    "\n",
    "\n",
    "def get_data(url):  \n",
    "    file=open(url)\n",
    "    file_lines = file.readlines()[1:]\n",
    "    X_train=[]\n",
    "    Y_train=[]\n",
    "   \n",
    "    ### ~~~~~~split data each line~~~~~~~~ ###\n",
    "    for patient_line in file_lines:\n",
    "        patient_linesplit=patient_line.split(\";\")\n",
    "        #print(patient_linesplit[:5])\n",
    "        vector_patient_features=np.zeros(len(patient_linesplit)-1)\n",
    "        for i in range(len(patient_linesplit)-1):\n",
    "            vector_patient_features[i]=float(patient_linesplit[i])\n",
    "    #print(vector_patient_features)\n",
    "\n",
    "        X_train.append(vector_patient_features)\n",
    "        Y_train.append(int(patient_linesplit[-1]))\n",
    "    #print(dataset_full[:5])\n",
    "    return X_train,Y_train\n",
    "\n",
    "def plot_learning_curves(model):\n",
    "    #X_train, X_val, y_train, y_val = train_test_split(X, y, test_size=0.2, random_state=10)\n",
    "    train_errors, val_errors = [], []\n",
    "    X_train,y_train=get_data(url_train)\n",
    "    X_val,y_val=get_data(url_test)\n",
    "    \n",
    "    model.fit(X_train, y_train) # Train using different models\n",
    "    #y_train_prediect=model.predict(X_train)\n",
    "    y_test_predict = model.predict(X_val) # predict results \n",
    "    #modelscore=model.score(X_train,y_train)#评分R2为0.26\n",
    "    Testscore=model.score(X_val,y_val) # compute score of model\n",
    "    #modelMSE=mean_squared_error(y_train,y_train_prediect)\n",
    "    TestMSE=mean_squared_error(y_val, y_test_predict) #compute MSE\n",
    "    #print(\"train score:\"+str(modelscore))\n",
    "    print(\"test score:\"+str(Testscore))\n",
    "    #print(\"train MSE:\"+str(cmath.sqrt(modelMSE)))\n",
    "    print(\"test MSE:\"+str(cmath.sqrt(TestMSE))) #print RMSE\n",
    "    #plot_line(y_val,y_train_predict)画图\n",
    "    #for m in range(1, len(X_train)):    # vary training set size\n",
    "        #model.fit(X_train[:m], y_train[:m])           # fit the model\n",
    "        #y_train_predict = model.predict(X_train[:m])  # prediction of training data\n",
    "        #y_val_predict = model.predict(X_val)          # prediction of test data\n",
    "        #train_errors.append(mean_squared_error(y_train[:m], y_train_predict))   # MSE on training set\n",
    "        #val_errors.append(mean_squared_error(y_val, y_val_predict))             # MSE on test set\n",
    "    #print(model.score(X_train,y_train))\n",
    "    plot_line(y_val,y_test_predict)\n",
    "    #plt.plot(np.sqrt(train_errors), \"r-+\", linewidth=2, label=\"train\") #把train_errors画出   \n",
    "    #plt.plot(np.sqrt(val_errors), \"b-\", linewidth=3, label=\"val\")#把test_error画出\n",
    "    #plt.legend(loc=\"upper right\", fontsize=14)   \n",
    "    #plt.xlabel(\"Training set size\", fontsize=14) \n",
    "    #plt.ylabel(\"RMSE\", fontsize=14)              \n",
    "    #plt.show()                                      \n",
    "\n",
    "def plot_line(Y_test,Y_predict):\n",
    "    sorted(Y_test)\n",
    "    plt.plot(range(len(Y_test)),sorted(Y_test),c=\"black\",label=\"Data\")\n",
    "    plt.plot(range(len(Y_predict)),sorted(Y_predict),c=\"red\",label=\"Predict\")\n",
    "    plt.legend()\n",
    "    plt.show()\n",
    "    \n",
    "#lin_reg1 = LinearSVR(epsilon=1, random_state=42,max_iter=10000)\n",
    "lin_reg1 = SVR(kernel=\"linear\", C=3, epsilon=1.5,gamma=\"auto\")\n",
    "lin_reg2=LinearRegression()\n",
    "lin_reg3= Pipeline([\n",
    "                    (\"poly_features\", PolynomialFeatures(degree=3,interaction_only=True)), #degree上升，r^2会变成负数，degree 降低，r^2又会降低\n",
    "                    (\"std_scaler\", StandardScaler()),\n",
    "                    (\"regul_reg\", lin_reg2),\n",
    "                ])\n",
    "plot_learning_curves(lin_reg1)\n",
    "plot_learning_curves(lin_reg2)\n",
    "plot_learning_curves(lin_reg3)\n",
    "#svm_poly_reg1 = SVR(kernel=\"poly\", degree=2, C=100, epsilon=0.1, gamma=\"auto\")\n",
    "#plot_learning_curves(svm_poly_reg1)\n",
    "#plt.axis([0, 80, 0, 3])                         # not shown in the book\n",
    "\n",
    "###test here\n",
    "#train_X,train_Y=get_data(url_train)"
   ]
  },
  {
   "cell_type": "code",
   "execution_count": null,
   "metadata": {},
   "outputs": [],
   "source": []
  },
  {
   "cell_type": "code",
   "execution_count": null,
   "metadata": {},
   "outputs": [],
   "source": []
  }
 ],
 "metadata": {
  "kernelspec": {
   "display_name": "Python 3",
   "language": "python",
   "name": "python3"
  },
  "language_info": {
   "codemirror_mode": {
    "name": "ipython",
    "version": 3
   },
   "file_extension": ".py",
   "mimetype": "text/x-python",
   "name": "python",
   "nbconvert_exporter": "python",
   "pygments_lexer": "ipython3",
   "version": "3.7.3"
  }
 },
 "nbformat": 4,
 "nbformat_minor": 2
}
